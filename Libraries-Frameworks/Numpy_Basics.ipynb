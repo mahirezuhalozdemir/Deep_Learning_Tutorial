{
  "nbformat": 4,
  "nbformat_minor": 0,
  "metadata": {
    "colab": {
      "provenance": [],
      "authorship_tag": "ABX9TyPmRXVcgBJpCFefdPnCp2Wx",
      "include_colab_link": true
    },
    "kernelspec": {
      "name": "python3",
      "display_name": "Python 3"
    },
    "language_info": {
      "name": "python"
    }
  },
  "cells": [
    {
      "cell_type": "markdown",
      "metadata": {
        "id": "view-in-github",
        "colab_type": "text"
      },
      "source": [
        "<a href=\"https://colab.research.google.com/github/mahirezuhalozdemir/Deep_Learning_Tutorial/blob/main/Numpy_Basics.ipynb\" target=\"_parent\"><img src=\"https://colab.research.google.com/assets/colab-badge.svg\" alt=\"Open In Colab\"/></a>"
      ]
    },
    {
      "cell_type": "code",
      "execution_count": null,
      "metadata": {
        "id": "YAiyxnRavVPO"
      },
      "outputs": [],
      "source": [
        "import numpy as np"
      ]
    },
    {
      "cell_type": "markdown",
      "source": [
        "**CHECK NUMPY VERSION**"
      ],
      "metadata": {
        "id": "y5VYyy46omdC"
      }
    },
    {
      "cell_type": "code",
      "source": [
        "#check numpy version\n",
        "np.__version__"
      ],
      "metadata": {
        "colab": {
          "base_uri": "https://localhost:8080/",
          "height": 35
        },
        "id": "4ehNU7KLvZ9d",
        "outputId": "7c27a6c0-067a-4173-ba24-31b30c7b2cf3"
      },
      "execution_count": null,
      "outputs": [
        {
          "output_type": "execute_result",
          "data": {
            "text/plain": [
              "'1.25.2'"
            ],
            "application/vnd.google.colaboratory.intrinsic+json": {
              "type": "string"
            }
          },
          "metadata": {},
          "execution_count": 2
        }
      ]
    },
    {
      "cell_type": "markdown",
      "source": [
        "**CREATE ARRAY**"
      ],
      "metadata": {
        "id": "DPcf-Fkzoq5V"
      }
    },
    {
      "cell_type": "code",
      "source": [
        "#create numpy array\n",
        "arr = np.array([1,2,3,4,5,6])\n",
        "arr"
      ],
      "metadata": {
        "colab": {
          "base_uri": "https://localhost:8080/"
        },
        "id": "GHaUuiJTvd_G",
        "outputId": "5aa64e3a-e7f0-415a-cb22-8929c114ea0c"
      },
      "execution_count": null,
      "outputs": [
        {
          "output_type": "execute_result",
          "data": {
            "text/plain": [
              "array([1, 2, 3, 4, 5, 6])"
            ]
          },
          "metadata": {},
          "execution_count": 3
        }
      ]
    },
    {
      "cell_type": "code",
      "source": [
        "#create single-dimension array\n",
        "arr = np.array(29)\n",
        "arr"
      ],
      "metadata": {
        "colab": {
          "base_uri": "https://localhost:8080/"
        },
        "id": "AY-OjvUkw9LX",
        "outputId": "9e32c614-0056-4979-de7a-83461a2e1e7d"
      },
      "execution_count": null,
      "outputs": [
        {
          "output_type": "execute_result",
          "data": {
            "text/plain": [
              "array(29)"
            ]
          },
          "metadata": {},
          "execution_count": 4
        }
      ]
    },
    {
      "cell_type": "code",
      "source": [
        "#create 2-D array\n",
        "arr = np.array([[1,2,3],[4,5,6]])\n",
        "arr"
      ],
      "metadata": {
        "colab": {
          "base_uri": "https://localhost:8080/"
        },
        "id": "sGQtzUzQxSfr",
        "outputId": "00d1d5e0-1052-4ec8-98da-604935f0abe9"
      },
      "execution_count": null,
      "outputs": [
        {
          "output_type": "execute_result",
          "data": {
            "text/plain": [
              "array([[1, 2, 3],\n",
              "       [4, 5, 6]])"
            ]
          },
          "metadata": {},
          "execution_count": 5
        }
      ]
    },
    {
      "cell_type": "code",
      "source": [
        "#create 3-D array\n",
        "arr = np.array([\n",
        "              [[1,2,3],[4,5,6],[7,8,9]],\n",
        "              [[10,11,12],[13,14,15],[16,17,18]]\n",
        "              ])\n",
        "arr"
      ],
      "metadata": {
        "id": "nMhCPgMsxej_",
        "colab": {
          "base_uri": "https://localhost:8080/"
        },
        "outputId": "ae00a2b9-d046-4333-a593-ef5b943ad639"
      },
      "execution_count": null,
      "outputs": [
        {
          "output_type": "execute_result",
          "data": {
            "text/plain": [
              "array([[[ 1,  2,  3],\n",
              "        [ 4,  5,  6],\n",
              "        [ 7,  8,  9]],\n",
              "\n",
              "       [[10, 11, 12],\n",
              "        [13, 14, 15],\n",
              "        [16, 17, 18]]])"
            ]
          },
          "metadata": {},
          "execution_count": 10
        }
      ]
    },
    {
      "cell_type": "code",
      "source": [
        "#create 0 array\n",
        "arr = np.zeros((3,1))\n",
        "arr"
      ],
      "metadata": {
        "colab": {
          "base_uri": "https://localhost:8080/"
        },
        "id": "nQSZYcImy0P-",
        "outputId": "b2b1e609-c236-4918-d3ea-29c19422c438"
      },
      "execution_count": null,
      "outputs": [
        {
          "output_type": "execute_result",
          "data": {
            "text/plain": [
              "array([[0.],\n",
              "       [0.],\n",
              "       [0.]])"
            ]
          },
          "metadata": {},
          "execution_count": 68
        }
      ]
    },
    {
      "cell_type": "code",
      "source": [
        "#create 1 array\n",
        "arr = np.ones((3,2))\n",
        "arr"
      ],
      "metadata": {
        "colab": {
          "base_uri": "https://localhost:8080/"
        },
        "id": "A38Uf4-0zTgP",
        "outputId": "e736edfd-e158-4dd6-8b52-08b5aaa6be02"
      },
      "execution_count": null,
      "outputs": [
        {
          "output_type": "execute_result",
          "data": {
            "text/plain": [
              "array([[1., 1.],\n",
              "       [1., 1.],\n",
              "       [1., 1.]])"
            ]
          },
          "metadata": {},
          "execution_count": 69
        }
      ]
    },
    {
      "cell_type": "code",
      "source": [
        "#create numpy array with constant number\n",
        "arr = np.full((2,3),9)\n",
        "arr"
      ],
      "metadata": {
        "colab": {
          "base_uri": "https://localhost:8080/"
        },
        "id": "g6T9K9g3zdbp",
        "outputId": "82396c94-16a2-44f4-8119-486a75ff68ce"
      },
      "execution_count": null,
      "outputs": [
        {
          "output_type": "execute_result",
          "data": {
            "text/plain": [
              "array([[9, 9, 9],\n",
              "       [9, 9, 9]])"
            ]
          },
          "metadata": {},
          "execution_count": 70
        }
      ]
    },
    {
      "cell_type": "code",
      "source": [
        "#numpy array range\n",
        "arr = np.array(range(2,20,2))\n",
        "arr"
      ],
      "metadata": {
        "colab": {
          "base_uri": "https://localhost:8080/"
        },
        "id": "xGpLiKEzzif4",
        "outputId": "0368b09f-ca82-4360-ca8c-5adadb4e88a4"
      },
      "execution_count": null,
      "outputs": [
        {
          "output_type": "execute_result",
          "data": {
            "text/plain": [
              "array([ 2,  4,  6,  8, 10, 12, 14, 16, 18])"
            ]
          },
          "metadata": {},
          "execution_count": 71
        }
      ]
    },
    {
      "cell_type": "code",
      "source": [
        "#create array within the specified range\n",
        "arr = np.linspace(2,5,3)\n",
        "arr"
      ],
      "metadata": {
        "colab": {
          "base_uri": "https://localhost:8080/"
        },
        "id": "F06Or_fHzqg0",
        "outputId": "e4e59549-424c-47c5-a77e-c54d147ceba0"
      },
      "execution_count": null,
      "outputs": [
        {
          "output_type": "execute_result",
          "data": {
            "text/plain": [
              "array([2. , 3.5, 5. ])"
            ]
          },
          "metadata": {},
          "execution_count": 75
        }
      ]
    },
    {
      "cell_type": "markdown",
      "source": [
        "**CHECK NUMBER OF DIMENSION**"
      ],
      "metadata": {
        "id": "ovo4JD9dovO0"
      }
    },
    {
      "cell_type": "code",
      "source": [
        "#check number of dimension\n",
        "arr.ndim\n",
        "#ndim prints number of dimension of array"
      ],
      "metadata": {
        "colab": {
          "base_uri": "https://localhost:8080/"
        },
        "id": "fj85gkthY0TU",
        "outputId": "40a80fd7-acba-4f7c-9d1d-b63e56c161a7"
      },
      "execution_count": null,
      "outputs": [
        {
          "output_type": "execute_result",
          "data": {
            "text/plain": [
              "3"
            ]
          },
          "metadata": {},
          "execution_count": 12
        }
      ]
    },
    {
      "cell_type": "code",
      "source": [
        "#set specific number of dimension\n",
        "arr = np.array([1, 2, 3, 4], ndmin=5)\n",
        "arr.ndim"
      ],
      "metadata": {
        "colab": {
          "base_uri": "https://localhost:8080/"
        },
        "id": "-pRKswrRZlJc",
        "outputId": "296c8363-1c9d-4851-a9b4-133460038a63"
      },
      "execution_count": null,
      "outputs": [
        {
          "output_type": "execute_result",
          "data": {
            "text/plain": [
              "5"
            ]
          },
          "metadata": {},
          "execution_count": 18
        }
      ]
    },
    {
      "cell_type": "markdown",
      "source": [
        "**CHECK SIZE OF ARRAY**"
      ],
      "metadata": {
        "id": "45MMLe4AuLYM"
      }
    },
    {
      "cell_type": "code",
      "source": [
        "arr = np.array([1, 2, 3, 4])\n",
        "arr.size"
      ],
      "metadata": {
        "colab": {
          "base_uri": "https://localhost:8080/"
        },
        "id": "OgPpOoCxuPo7",
        "outputId": "3f39cb1c-d5d6-49fa-a9e6-89a2b573a05f"
      },
      "execution_count": null,
      "outputs": [
        {
          "output_type": "execute_result",
          "data": {
            "text/plain": [
              "4"
            ]
          },
          "metadata": {},
          "execution_count": 55
        }
      ]
    },
    {
      "cell_type": "markdown",
      "source": [
        "**CHECK SHAPE OF ARRAY**"
      ],
      "metadata": {
        "id": "UGLqnACsubyy"
      }
    },
    {
      "cell_type": "code",
      "source": [
        "arr = np.array([1, 2, 3, 4])\n",
        "arr.shape #return shape of array"
      ],
      "metadata": {
        "colab": {
          "base_uri": "https://localhost:8080/"
        },
        "id": "vUBsH1aYuetG",
        "outputId": "e52cff3b-3522-42cc-aff1-6532e98e4e88"
      },
      "execution_count": null,
      "outputs": [
        {
          "output_type": "execute_result",
          "data": {
            "text/plain": [
              "(4,)"
            ]
          },
          "metadata": {},
          "execution_count": 56
        }
      ]
    },
    {
      "cell_type": "markdown",
      "source": [
        "**CHANGE SHAPE OF ARRAY**"
      ],
      "metadata": {
        "id": "dMfXEs6IyHbV"
      }
    },
    {
      "cell_type": "code",
      "source": [
        "#reshape of array\n",
        "arr = np.array([1,2,3,4,5,6])\n",
        "reshp_arr = arr.reshape(3,2)\n",
        "reshp_arr"
      ],
      "metadata": {
        "colab": {
          "base_uri": "https://localhost:8080/"
        },
        "id": "WlVYmli9yLsr",
        "outputId": "a1786a6f-9af6-49ec-c2a3-190568f19019"
      },
      "execution_count": null,
      "outputs": [
        {
          "output_type": "execute_result",
          "data": {
            "text/plain": [
              "array([[1, 2],\n",
              "       [3, 4],\n",
              "       [5, 6]])"
            ]
          },
          "metadata": {},
          "execution_count": 65
        }
      ]
    },
    {
      "cell_type": "markdown",
      "source": [
        "**CHECK DATA TYPE OF ARRAY**"
      ],
      "metadata": {
        "id": "Qwvg84C4utpH"
      }
    },
    {
      "cell_type": "code",
      "source": [
        "#return type of the array\n",
        "arr = np.array([1, 2, 3, 4, 5])\n",
        "arr.dtype"
      ],
      "metadata": {
        "colab": {
          "base_uri": "https://localhost:8080/"
        },
        "id": "4zgJGARwuxzH",
        "outputId": "96affea0-a93e-4592-9b0a-4afb4edfd7a6"
      },
      "execution_count": null,
      "outputs": [
        {
          "output_type": "execute_result",
          "data": {
            "text/plain": [
              "dtype('int64')"
            ]
          },
          "metadata": {},
          "execution_count": 60
        }
      ]
    },
    {
      "cell_type": "code",
      "source": [
        "#return type of the array (include different types of elements)\n",
        "arr = np.array([1, 2, 3, 4, 5.0])\n",
        "arr.dtype"
      ],
      "metadata": {
        "colab": {
          "base_uri": "https://localhost:8080/"
        },
        "id": "xJm_IgwzvMNS",
        "outputId": "196a13bc-29af-4eb4-aa37-a4e0475b6ac8"
      },
      "execution_count": null,
      "outputs": [
        {
          "output_type": "execute_result",
          "data": {
            "text/plain": [
              "dtype('float64')"
            ]
          },
          "metadata": {},
          "execution_count": 61
        }
      ]
    },
    {
      "cell_type": "code",
      "source": [
        "#create an array with data type string\n",
        "arr = np.array([1, 2, 3, 4], dtype='S')\n",
        "arr.dtype\n",
        "# i for integer\n",
        "# u for unsigned integer\n",
        "# f for float\n",
        "# S for zero-terminated bytes\n",
        "# U for Unicode string"
      ],
      "metadata": {
        "colab": {
          "base_uri": "https://localhost:8080/"
        },
        "id": "eOrzq8eFvNpj",
        "outputId": "b3025c7b-790b-4c0f-96ef-126c37f0eef3"
      },
      "execution_count": null,
      "outputs": [
        {
          "output_type": "execute_result",
          "data": {
            "text/plain": [
              "dtype('S1')"
            ]
          },
          "metadata": {},
          "execution_count": 62
        }
      ]
    },
    {
      "cell_type": "markdown",
      "source": [
        "**CHANGE DATA TYPE OF ARRAY**"
      ],
      "metadata": {
        "id": "qRHLmFSp0HQ1"
      }
    },
    {
      "cell_type": "code",
      "source": [
        "#change data type of array\n",
        "arr = np.array([1.1, 2.1, 3.1])\n",
        "int_arr = arr.astype('i')\n",
        "#int_arr = arr.astype(int)\n",
        "int_arr"
      ],
      "metadata": {
        "colab": {
          "base_uri": "https://localhost:8080/"
        },
        "id": "TUB-9X0c0Puq",
        "outputId": "981beee8-b867-491f-eba0-c76fed0732f0"
      },
      "execution_count": null,
      "outputs": [
        {
          "output_type": "execute_result",
          "data": {
            "text/plain": [
              "array([1, 2, 3], dtype=int32)"
            ]
          },
          "metadata": {},
          "execution_count": 77
        }
      ]
    },
    {
      "cell_type": "code",
      "source": [
        "arr = np.array([1, 2, 3])\n",
        "float_arr = arr.astype(float)\n",
        "float_arr"
      ],
      "metadata": {
        "colab": {
          "base_uri": "https://localhost:8080/"
        },
        "id": "OuQDdaef0hhy",
        "outputId": "cbd190f8-1667-4956-d217-f5652d1e6db9"
      },
      "execution_count": null,
      "outputs": [
        {
          "output_type": "execute_result",
          "data": {
            "text/plain": [
              "array([1., 2., 3.])"
            ]
          },
          "metadata": {},
          "execution_count": 80
        }
      ]
    },
    {
      "cell_type": "markdown",
      "source": [
        "**INDEXING**"
      ],
      "metadata": {
        "id": "msoU2faoo2Ch"
      }
    },
    {
      "cell_type": "code",
      "source": [
        "#array indexing\n",
        "arr = np.array([1,2,3,4,5])\n",
        "arr[0]"
      ],
      "metadata": {
        "colab": {
          "base_uri": "https://localhost:8080/"
        },
        "id": "XL9Yo7R9ZzuM",
        "outputId": "b01ab8d5-6cea-4dd1-8f58-2620b28c7acb"
      },
      "execution_count": null,
      "outputs": [
        {
          "output_type": "execute_result",
          "data": {
            "text/plain": [
              "1"
            ]
          },
          "metadata": {},
          "execution_count": 22
        }
      ]
    },
    {
      "cell_type": "code",
      "source": [
        "#multi-dimension array indexing\n",
        "arr = np.array([[1,2,3],[4,5,6]])\n",
        "arr[1,0] #second row, first column"
      ],
      "metadata": {
        "colab": {
          "base_uri": "https://localhost:8080/"
        },
        "id": "tEfnwvmxaa6x",
        "outputId": "a492c14c-7cca-4c76-cd0c-94cc6aaad071"
      },
      "execution_count": null,
      "outputs": [
        {
          "output_type": "execute_result",
          "data": {
            "text/plain": [
              "4"
            ]
          },
          "metadata": {},
          "execution_count": 27
        }
      ]
    },
    {
      "cell_type": "code",
      "source": [
        "#multi-dimension array indexing\n",
        "arr = np.array([\n",
        "    [[1,2,3],[4,5,6]],\n",
        "    [[7,8,9],[10,11,12]]\n",
        "    ])\n",
        "arr[0,1,1] #second element of the second row of the first array"
      ],
      "metadata": {
        "colab": {
          "base_uri": "https://localhost:8080/"
        },
        "id": "7g0k5_AJbiuq",
        "outputId": "be0e6de2-c21b-4ed1-f6d2-04d1cda4b300"
      },
      "execution_count": null,
      "outputs": [
        {
          "output_type": "execute_result",
          "data": {
            "text/plain": [
              "array([[[ 1,  2,  3],\n",
              "        [ 4,  5,  6]],\n",
              "\n",
              "       [[ 7,  8,  9],\n",
              "        [10, 11, 12]]])"
            ]
          },
          "metadata": {},
          "execution_count": 37
        }
      ]
    },
    {
      "cell_type": "code",
      "source": [
        "#negative indexing\n",
        "arr = np.array([[1,2,3],[4,5,6]])\n",
        "arr[1,-1] # last element of the second row"
      ],
      "metadata": {
        "colab": {
          "base_uri": "https://localhost:8080/"
        },
        "id": "DR2EsMPxnPja",
        "outputId": "81081250-27f3-4088-80ef-4bceb9ccd398"
      },
      "execution_count": null,
      "outputs": [
        {
          "output_type": "execute_result",
          "data": {
            "text/plain": [
              "6"
            ]
          },
          "metadata": {},
          "execution_count": 40
        }
      ]
    },
    {
      "cell_type": "markdown",
      "source": [
        "**SLICING**"
      ],
      "metadata": {
        "id": "R3sIntw3pKQ_"
      }
    },
    {
      "cell_type": "code",
      "source": [
        "#slice elements from index 1 to 3\n",
        "arr = np.array([1,2,3,4,5,6])\n",
        "arr[1:3]"
      ],
      "metadata": {
        "colab": {
          "base_uri": "https://localhost:8080/"
        },
        "id": "1rwdy6XJnVST",
        "outputId": "a6b50779-263c-4600-d74e-39e8de9e2a46"
      },
      "execution_count": null,
      "outputs": [
        {
          "output_type": "execute_result",
          "data": {
            "text/plain": [
              "array([2, 3])"
            ]
          },
          "metadata": {},
          "execution_count": 42
        }
      ]
    },
    {
      "cell_type": "code",
      "source": [
        "#slice elements from index 1 to end of the array\n",
        "arr = np.array([1,2,3,4,5,6])\n",
        "arr[1:]"
      ],
      "metadata": {
        "colab": {
          "base_uri": "https://localhost:8080/"
        },
        "id": "BixSpHOrq42i",
        "outputId": "15a60777-64ec-4d47-ea14-72b1c2ff153a"
      },
      "execution_count": null,
      "outputs": [
        {
          "output_type": "execute_result",
          "data": {
            "text/plain": [
              "array([2, 3, 4, 5, 6])"
            ]
          },
          "metadata": {},
          "execution_count": 43
        }
      ]
    },
    {
      "cell_type": "code",
      "source": [
        "#slice elements from beginnig of the array to 3\n",
        "arr = np.array([1,2,3,4,5,6])\n",
        "arr[:3]"
      ],
      "metadata": {
        "colab": {
          "base_uri": "https://localhost:8080/"
        },
        "id": "ct5ExcgPrD35",
        "outputId": "e0890f43-d31f-449a-a20a-1aecffaf41b1"
      },
      "execution_count": null,
      "outputs": [
        {
          "output_type": "execute_result",
          "data": {
            "text/plain": [
              "array([1, 2, 3])"
            ]
          },
          "metadata": {},
          "execution_count": 44
        }
      ]
    },
    {
      "cell_type": "code",
      "source": [
        "#negative slicing\n",
        "#indexing from end of the array\n",
        "arr = np.array([1,2,3,4,5,6])\n",
        "arr[-3:-1]"
      ],
      "metadata": {
        "colab": {
          "base_uri": "https://localhost:8080/"
        },
        "id": "LkyaSQJfrMII",
        "outputId": "e39ec31e-31b7-49d7-a6a7-045089984d82"
      },
      "execution_count": null,
      "outputs": [
        {
          "output_type": "execute_result",
          "data": {
            "text/plain": [
              "array([4, 5])"
            ]
          },
          "metadata": {},
          "execution_count": 46
        }
      ]
    },
    {
      "cell_type": "markdown",
      "source": [
        "**STEP BY STEP SLICING**"
      ],
      "metadata": {
        "id": "rsvGKS3Vr2kY"
      }
    },
    {
      "cell_type": "code",
      "source": [
        "#slicing with step size\n",
        "arr = np.array([1,2,3,4,5,6])\n",
        "arr[1:6:2]"
      ],
      "metadata": {
        "colab": {
          "base_uri": "https://localhost:8080/"
        },
        "id": "nHlqj_OsrsjA",
        "outputId": "5817e59d-f4f0-4a30-8bcc-a94a8ee40313"
      },
      "execution_count": null,
      "outputs": [
        {
          "output_type": "execute_result",
          "data": {
            "text/plain": [
              "array([2, 4, 6])"
            ]
          },
          "metadata": {},
          "execution_count": 48
        }
      ]
    },
    {
      "cell_type": "code",
      "source": [
        "#return elements in 2 steps\n",
        "arr = np.array([1, 2, 3, 4, 5, 6, 7])\n",
        "print(arr[::2])"
      ],
      "metadata": {
        "colab": {
          "base_uri": "https://localhost:8080/"
        },
        "id": "Wl_FIcT2sHo-",
        "outputId": "4bbb2b3a-cb8c-4f5a-965d-2cce830665b0"
      },
      "execution_count": null,
      "outputs": [
        {
          "output_type": "stream",
          "name": "stdout",
          "text": [
            "[1 3 5 7]\n"
          ]
        }
      ]
    },
    {
      "cell_type": "code",
      "source": [
        "#2-D array\n",
        "arr = np.array([[1, 2, 3, 4, 5], [6, 7, 8, 9, 10]])\n",
        "arr[1,1:4] #elements from first index to the 4th index of the second arrays"
      ],
      "metadata": {
        "colab": {
          "base_uri": "https://localhost:8080/"
        },
        "id": "5IBDZf5YsOx8",
        "outputId": "e36ae758-4758-4116-a6aa-59298b5b31a5"
      },
      "execution_count": null,
      "outputs": [
        {
          "output_type": "execute_result",
          "data": {
            "text/plain": [
              "array([7, 8, 9])"
            ]
          },
          "metadata": {},
          "execution_count": 53
        }
      ]
    },
    {
      "cell_type": "code",
      "source": [
        "#2-D array\n",
        "arr = np.array([[1, 2, 3, 4, 5], [6, 7, 8, 9, 10]])\n",
        "arr[0:2, 2]\n",
        "#second element of arrays from first to the third"
      ],
      "metadata": {
        "colab": {
          "base_uri": "https://localhost:8080/"
        },
        "id": "ApZvjUQfsu2T",
        "outputId": "75a56b7f-5be8-42c1-8e1c-6cc69c62a778"
      },
      "execution_count": null,
      "outputs": [
        {
          "output_type": "stream",
          "name": "stdout",
          "text": [
            "[3 8]\n"
          ]
        }
      ]
    },
    {
      "cell_type": "markdown",
      "source": [
        "**COPY ARRAY**"
      ],
      "metadata": {
        "id": "QcOCiGDo0zFU"
      }
    },
    {
      "cell_type": "code",
      "source": [
        "arr = np.array([1, 2, 3, 4, 5])\n",
        "copy_arr = arr.copy()\n",
        "copy_arr[3] = 29\n",
        "print('copy array: ', copy_arr)\n",
        "print('array: ', arr)"
      ],
      "metadata": {
        "colab": {
          "base_uri": "https://localhost:8080/"
        },
        "id": "H79jSzx1tn2X",
        "outputId": "861214a3-97e9-4d84-f0e5-f3a6e3416be5"
      },
      "execution_count": null,
      "outputs": [
        {
          "output_type": "stream",
          "name": "stdout",
          "text": [
            "copy array:  [ 1  2  3 29  5]\n",
            "array:  [1 2 3 4 5]\n"
          ]
        }
      ]
    },
    {
      "cell_type": "code",
      "source": [
        "arr = np.array([1, 2, 3, 4, 5])\n",
        "copy_arr = arr.copy()\n",
        "arr[3] = 29\n",
        "print('copy array: ', copy_arr)\n",
        "print('array: ', arr)"
      ],
      "metadata": {
        "colab": {
          "base_uri": "https://localhost:8080/"
        },
        "id": "jOgJggk_06l3",
        "outputId": "88a0190d-f605-449b-8c9f-a6fa7bd0b695"
      },
      "execution_count": null,
      "outputs": [
        {
          "output_type": "stream",
          "name": "stdout",
          "text": [
            "copy array:  [1 2 3 4 5]\n",
            "array:  [ 1  2  3 29  5]\n"
          ]
        }
      ]
    },
    {
      "cell_type": "markdown",
      "source": [
        "**MAKE A VIEW OF ARRAY**"
      ],
      "metadata": {
        "id": "w3Z9TPgW1eos"
      }
    },
    {
      "cell_type": "code",
      "source": [
        "arr = np.array([1, 2, 3, 4, 5])\n",
        "view_arr = arr.view()\n",
        "arr[0] = 42\n",
        "print('view array: ', view_arr)\n",
        "print('array: ', arr)"
      ],
      "metadata": {
        "colab": {
          "base_uri": "https://localhost:8080/"
        },
        "id": "ppeO3Tmx1N6T",
        "outputId": "073c3fed-bc4a-4565-c6d1-2482b381307f"
      },
      "execution_count": null,
      "outputs": [
        {
          "output_type": "stream",
          "name": "stdout",
          "text": [
            "view array:  [42  2  3  4  5]\n",
            "array:  [42  2  3  4  5]\n"
          ]
        }
      ]
    },
    {
      "cell_type": "markdown",
      "source": [
        "**ARRAY ITERATING**"
      ],
      "metadata": {
        "id": "v6-fJb8d2dWw"
      }
    },
    {
      "cell_type": "code",
      "source": [
        "arr = np.array([1, 2, 3, 4, 5])\n",
        "\n",
        "for i in arr:\n",
        "  print(i)"
      ],
      "metadata": {
        "colab": {
          "base_uri": "https://localhost:8080/"
        },
        "id": "PXSRAykV1Vt3",
        "outputId": "ac3dd281-071f-4700-9f66-5920dce88672"
      },
      "execution_count": null,
      "outputs": [
        {
          "output_type": "stream",
          "name": "stdout",
          "text": [
            "1\n",
            "2\n",
            "3\n",
            "4\n",
            "5\n"
          ]
        }
      ]
    },
    {
      "cell_type": "code",
      "source": [
        "#2-D array\n",
        "arr = np.array([[1, 2, 3, 4, 5],[6, 7, 8, 9, 10]])\n",
        "\n",
        "for i in arr:\n",
        "  for j in i:\n",
        "    print(j)"
      ],
      "metadata": {
        "colab": {
          "base_uri": "https://localhost:8080/"
        },
        "id": "UvTywiUj2CGN",
        "outputId": "a5f903b3-cf14-45cf-f49f-0f7be3769c46"
      },
      "execution_count": null,
      "outputs": [
        {
          "output_type": "stream",
          "name": "stdout",
          "text": [
            "1\n",
            "2\n",
            "3\n",
            "4\n",
            "5\n",
            "6\n",
            "7\n",
            "8\n",
            "9\n",
            "10\n"
          ]
        }
      ]
    },
    {
      "cell_type": "code",
      "source": [
        "#3-D array\n",
        "arr = np.array([[[1,2,3],[4,5,6],[7,8,9]],[[10,11,12],[13,14,15],[16,17,18]]])\n",
        "\n",
        "for i in arr:\n",
        "  for j in i:\n",
        "    for k in j:\n",
        "      print(k)"
      ],
      "metadata": {
        "id": "5TviSo7w3K_W"
      },
      "execution_count": null,
      "outputs": []
    },
    {
      "cell_type": "markdown",
      "source": [
        "**SPLIT ARRAY**"
      ],
      "metadata": {
        "id": "V-GaD3KY4IQc"
      }
    },
    {
      "cell_type": "code",
      "source": [
        "#split array parts\n",
        "arr = np.array([1, 2, 3, 4, 5, 6])\n",
        "split_arr = np.array_split(arr, 3)\n",
        "#split the array in 3 parts\n",
        "split_arr"
      ],
      "metadata": {
        "colab": {
          "base_uri": "https://localhost:8080/"
        },
        "id": "F0XIziDe3YWM",
        "outputId": "a357f204-2056-48a7-e77f-dc8ff36dbcb6"
      },
      "execution_count": null,
      "outputs": [
        {
          "output_type": "execute_result",
          "data": {
            "text/plain": [
              "[array([1, 2]), array([3, 4]), array([5, 6])]"
            ]
          },
          "metadata": {},
          "execution_count": 104
        }
      ]
    },
    {
      "cell_type": "markdown",
      "source": [
        "**WHERE COMMAND FOR SEARCHING**"
      ],
      "metadata": {
        "id": "xGCr3EVT4tmh"
      }
    },
    {
      "cell_type": "code",
      "source": [
        "#searching in array\n",
        "arr = np.array([1, 2, 3, 4, 5, 6, 7])\n",
        "index = np.where(arr == 4)\n",
        "index"
      ],
      "metadata": {
        "colab": {
          "base_uri": "https://localhost:8080/"
        },
        "id": "aQZdoEtw4KjF",
        "outputId": "852ac373-55d3-4655-c41c-30fa26fb556b"
      },
      "execution_count": null,
      "outputs": [
        {
          "output_type": "execute_result",
          "data": {
            "text/plain": [
              "(array([3]),)"
            ]
          },
          "metadata": {},
          "execution_count": 105
        }
      ]
    },
    {
      "cell_type": "code",
      "source": [
        "#searching in array with mode operate\n",
        "arr = np.array([1, 2, 3, 4, 5, 6, 7,8])\n",
        "index = np.where(arr % 4 == 0)\n",
        "index"
      ],
      "metadata": {
        "colab": {
          "base_uri": "https://localhost:8080/"
        },
        "id": "7tjquwvh5R24",
        "outputId": "6aa6bebc-caa7-4eaa-c0bc-c78d85b187bc"
      },
      "execution_count": null,
      "outputs": [
        {
          "output_type": "execute_result",
          "data": {
            "text/plain": [
              "(array([3, 7]),)"
            ]
          },
          "metadata": {},
          "execution_count": 110
        }
      ]
    },
    {
      "cell_type": "code",
      "source": [],
      "metadata": {
        "id": "0k3TnHmC6_JV"
      },
      "execution_count": null,
      "outputs": []
    }
  ]
}