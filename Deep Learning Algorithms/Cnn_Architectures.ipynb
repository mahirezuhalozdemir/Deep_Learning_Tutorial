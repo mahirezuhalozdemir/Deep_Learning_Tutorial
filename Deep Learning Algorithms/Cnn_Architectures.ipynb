{
  "cells": [
    {
      "cell_type": "markdown",
      "id": "802fc02c",
      "metadata": {
        "id": "802fc02c"
      },
      "source": [
        "**Import Libraries**"
      ]
    },
    {
      "cell_type": "code",
      "execution_count": 1,
      "id": "34469c32",
      "metadata": {
        "collapsed": true,
        "id": "34469c32"
      },
      "outputs": [],
      "source": [
        "import tensorflow as tf\n",
        "from tensorflow.keras import layers, models"
      ]
    },
    {
      "cell_type": "markdown",
      "id": "03b2805a",
      "metadata": {
        "id": "03b2805a"
      },
      "source": [
        "**Model Oluşturma**"
      ]
    },
    {
      "cell_type": "code",
      "execution_count": 9,
      "id": "5e989ce8",
      "metadata": {
        "collapsed": true,
        "id": "5e989ce8"
      },
      "outputs": [],
      "source": [
        "#Keras ile model oluşturmak için Sequential ve Functional apileri kullanılır.\n",
        "#Sıralı katmanlar için => sequential\n",
        "#Dallanan bir model yapısı için => functional\n",
        "#Pooling layer: Boyut azaltmak için kullanılan katmandır.(önemli özellikleri tutup gereksiz özellikleri azaltır.)\n",
        "#Model katmanı söylenirken convolution ve dense katmanları sayılır.(pooling katmanı sayılmaz)\n",
        "model = models.Sequential([\n",
        "    layers.Conv2D(32,(3,3),activation='relu',input_shape=(32,32,3)), #input shape mnist için=28,28,1 cifar için=32,32,3\n",
        "    layers.MaxPooling2D((2,2)),\n",
        "    layers.Conv2D(64,(3,3),activation='relu'),\n",
        "    layers.MaxPooling2D((2,2)),\n",
        "    layers.Flatten(),\n",
        "    layers.Dense(64,activation='relu'),\n",
        "    layers.Dense(10,activation='softmax'),\n",
        "])"
      ]
    },
    {
      "cell_type": "markdown",
      "id": "bc355425",
      "metadata": {
        "id": "bc355425"
      },
      "source": [
        "**Model Derleme**"
      ]
    },
    {
      "cell_type": "code",
      "execution_count": 10,
      "id": "b9276546",
      "metadata": {
        "colab": {
          "base_uri": "https://localhost:8080/"
        },
        "id": "b9276546",
        "outputId": "8484f0f0-8a5a-437e-bacf-6066577347ec"
      },
      "outputs": [
        {
          "output_type": "stream",
          "name": "stdout",
          "text": [
            "Model: \"sequential_2\"\n",
            "_________________________________________________________________\n",
            " Layer (type)                Output Shape              Param #   \n",
            "=================================================================\n",
            " conv2d_4 (Conv2D)           (None, 30, 30, 32)        896       \n",
            "                                                                 \n",
            " max_pooling2d_4 (MaxPoolin  (None, 15, 15, 32)        0         \n",
            " g2D)                                                            \n",
            "                                                                 \n",
            " conv2d_5 (Conv2D)           (None, 13, 13, 64)        18496     \n",
            "                                                                 \n",
            " max_pooling2d_5 (MaxPoolin  (None, 6, 6, 64)          0         \n",
            " g2D)                                                            \n",
            "                                                                 \n",
            " flatten_2 (Flatten)         (None, 2304)              0         \n",
            "                                                                 \n",
            " dense_4 (Dense)             (None, 64)                147520    \n",
            "                                                                 \n",
            " dense_5 (Dense)             (None, 10)                650       \n",
            "                                                                 \n",
            "=================================================================\n",
            "Total params: 167562 (654.54 KB)\n",
            "Trainable params: 167562 (654.54 KB)\n",
            "Non-trainable params: 0 (0.00 Byte)\n",
            "_________________________________________________________________\n"
          ]
        }
      ],
      "source": [
        "model.compile(optimizer='adam',\n",
        "             loss='sparse_categorical_crossentropy',\n",
        "             metrics=['accuracy'])\n",
        "\n",
        "model.summary()"
      ]
    },
    {
      "cell_type": "markdown",
      "id": "3e213646",
      "metadata": {
        "id": "3e213646"
      },
      "source": [
        "**Mnist Veriseti Üzerinde Eğitim**"
      ]
    },
    {
      "cell_type": "code",
      "execution_count": 4,
      "id": "4ac382dc",
      "metadata": {
        "collapsed": true,
        "colab": {
          "base_uri": "https://localhost:8080/"
        },
        "id": "4ac382dc",
        "outputId": "8bc6f96b-69fd-4ab8-d142-85fd8647ffcc"
      },
      "outputs": [
        {
          "output_type": "stream",
          "name": "stdout",
          "text": [
            "Downloading data from https://storage.googleapis.com/tensorflow/tf-keras-datasets/mnist.npz\n",
            "11490434/11490434 [==============================] - 2s 0us/step\n",
            "Epoch 1/5\n",
            "1875/1875 [==============================] - 15s 5ms/step - loss: 0.1351 - accuracy: 0.9595 - val_loss: 0.0453 - val_accuracy: 0.9864\n",
            "Epoch 2/5\n",
            "1875/1875 [==============================] - 9s 5ms/step - loss: 0.0450 - accuracy: 0.9857 - val_loss: 0.0341 - val_accuracy: 0.9889\n",
            "Epoch 3/5\n",
            "1875/1875 [==============================] - 7s 4ms/step - loss: 0.0314 - accuracy: 0.9901 - val_loss: 0.0298 - val_accuracy: 0.9895\n",
            "Epoch 4/5\n",
            "1875/1875 [==============================] - 8s 4ms/step - loss: 0.0224 - accuracy: 0.9930 - val_loss: 0.0290 - val_accuracy: 0.9903\n",
            "Epoch 5/5\n",
            "1875/1875 [==============================] - 7s 4ms/step - loss: 0.0175 - accuracy: 0.9943 - val_loss: 0.0337 - val_accuracy: 0.9889\n"
          ]
        },
        {
          "output_type": "execute_result",
          "data": {
            "text/plain": [
              "<keras.src.callbacks.History at 0x7a494f483490>"
            ]
          },
          "metadata": {},
          "execution_count": 4
        }
      ],
      "source": [
        "from tensorflow.keras.datasets import mnist\n",
        "(x_train, y_train), (x_test, y_test) = mnist.load_data()\n",
        "#görüntü pikselleri 255'e bölünerek 0-1 aralığına normalize edilir.\n",
        "#işlem yükü azalır\n",
        "x_train, x_test = x_train/255.0, x_test/255.0\n",
        "\n",
        "x_train = x_train[..., tf.newaxis]\n",
        "x_test = x_test[..., tf.newaxis]\n",
        "model.fit(x_train, y_train, epochs=5, validation_data=(x_test,y_test))"
      ]
    },
    {
      "cell_type": "markdown",
      "id": "0c8b1b5c",
      "metadata": {
        "id": "0c8b1b5c"
      },
      "source": [
        "**Cifar10 Veriseti Üzerinde Eğitim**"
      ]
    },
    {
      "cell_type": "code",
      "execution_count": 11,
      "id": "c8f7f3f1",
      "metadata": {
        "colab": {
          "base_uri": "https://localhost:8080/"
        },
        "id": "c8f7f3f1",
        "outputId": "9052e398-1331-41c0-e5b6-fef50082257c"
      },
      "outputs": [
        {
          "output_type": "stream",
          "name": "stdout",
          "text": [
            "Epoch 1/5\n",
            "1563/1563 [==============================] - 10s 5ms/step - loss: 1.4629 - accuracy: 0.4739 - val_loss: 1.2176 - val_accuracy: 0.5766\n",
            "Epoch 2/5\n",
            "1563/1563 [==============================] - 7s 4ms/step - loss: 1.1147 - accuracy: 0.6100 - val_loss: 1.0620 - val_accuracy: 0.6285\n",
            "Epoch 3/5\n",
            "1563/1563 [==============================] - 7s 5ms/step - loss: 0.9778 - accuracy: 0.6587 - val_loss: 0.9969 - val_accuracy: 0.6528\n",
            "Epoch 4/5\n",
            "1563/1563 [==============================] - 7s 4ms/step - loss: 0.8899 - accuracy: 0.6902 - val_loss: 0.9198 - val_accuracy: 0.6862\n",
            "Epoch 5/5\n",
            "1563/1563 [==============================] - 8s 5ms/step - loss: 0.8221 - accuracy: 0.7157 - val_loss: 0.9310 - val_accuracy: 0.6843\n"
          ]
        },
        {
          "output_type": "execute_result",
          "data": {
            "text/plain": [
              "<keras.src.callbacks.History at 0x7a48f0bb4c70>"
            ]
          },
          "metadata": {},
          "execution_count": 11
        }
      ],
      "source": [
        "from tensorflow.keras.datasets import cifar10\n",
        "(x_train, y_train), (x_test, y_test) = cifar10.load_data()\n",
        "#görüntü pikselleri 255'e bölünerek 0-1 aralığına normalize edilir.\n",
        "#işlem yükü azalır\n",
        "x_train, x_test = x_train/255.0, x_test/255.0\n",
        "\n",
        "x_train = x_train[..., tf.newaxis]\n",
        "x_test = x_test[..., tf.newaxis]\n",
        "model.fit(x_train, y_train, epochs=5, validation_data=(x_test,y_test))"
      ]
    },
    {
      "cell_type": "markdown",
      "id": "bc11c6e6",
      "metadata": {
        "id": "bc11c6e6"
      },
      "source": [
        "**VGG16 Model Fine Tune**"
      ]
    },
    {
      "cell_type": "code",
      "execution_count": 12,
      "id": "5c653cae",
      "metadata": {
        "id": "5c653cae"
      },
      "outputs": [],
      "source": [
        "vgg16 = tf.keras.applications.VGG16(\n",
        "    include_top=False,\n",
        "    weights=None,\n",
        "    input_tensor=None,\n",
        "    input_shape=(32,32,3),\n",
        "    pooling=max,\n",
        "    classes=10,\n",
        "    classifier_activation = 'softmax'\n",
        "    )\n",
        "\n",
        "vgg16.compile(optimizer='adam',\n",
        "             loss='sparse_categorical_crossentropy',\n",
        "             metrics=['accuracy'])"
      ]
    },
    {
      "cell_type": "markdown",
      "id": "294941d2",
      "metadata": {
        "id": "294941d2"
      },
      "source": [
        "**Transfer Learning ve Fine Tune**\n",
        "*  Transfer öğrenmede, genellikle önceden eğitilmiş katmanların ağırlıklarını dondurur ve yalnızca daha yüksek katmanların ağırlıklarını ince ayar yaparsınız veya önceden eğitilmiş katmanların üzerine ek katmanlar ekleyip eğitirsiniz.\n",
        "*  Fine Tune, bir önceden eğitilmiş modeli kullanmanın yanı sıra, modelin tüm parametrelerini yeni görev veya veri kümesine daha iyi uyacak şekilde güncellemenizi içeren özel bir transfer öğrenme türüdür."
      ]
    },
    {
      "cell_type": "markdown",
      "id": "7a43cb61",
      "metadata": {
        "id": "7a43cb61"
      },
      "source": [
        "**GoogleNet Model Fine Tune**"
      ]
    },
    {
      "cell_type": "markdown",
      "source": [
        "GoogleNet'in en dikkat çekici özelliği, paralel olarak çalışan ve farklı boyutlardaki konvolüsyonları birleştiren \"Inception\"\n",
        "adlı bir mimariye dayanmasıdır. Bu mimari, hesaplama maliyetini azaltırken aynı anda daha fazla derinlik sağlamayı amaçlar.\n",
        "Inception mimarisi, 1x1, 3x3 ve 5x5 boyutlarında konvolüsyonları ve ayrıca max pooling katmanlarını içerir.\n",
        "Bu paralel yapılar, farklı özelliklerin çıkarılmasına ve daha etkili öğrenmeye olanak tanır."
      ],
      "metadata": {
        "id": "DOQXkAmSJlrt"
      },
      "id": "DOQXkAmSJlrt"
    },
    {
      "cell_type": "code",
      "execution_count": 15,
      "id": "c0981414",
      "metadata": {
        "id": "c0981414"
      },
      "outputs": [],
      "source": [
        "googlenet = tf.keras.applications.InceptionV3(\n",
        "    include_top=False,\n",
        "    weights=None,\n",
        "    input_tensor=None,\n",
        "    input_shape=(75,75,3),\n",
        "    pooling=max,\n",
        "    classes=10,\n",
        "    classifier_activation = 'softmax'\n",
        "    )\n",
        "\n",
        "googlenet.compile(optimizer='adam',\n",
        "             loss='sparse_categorical_crossentropy',\n",
        "             metrics=['accuracy'])"
      ]
    },
    {
      "cell_type": "markdown",
      "id": "90f7aea1",
      "metadata": {
        "id": "90f7aea1"
      },
      "source": [
        "**Resnet Model Fine Tune**"
      ]
    },
    {
      "cell_type": "markdown",
      "source": [
        "ResNet, geleneksel olarak derin sinir ağlarının eğitiminde karşılaşılan \"derinleştikçe azalan performans\" sorununu çözmek için\n",
        "tasarlanmıştır. Bu sorun, ağın derinleşmesiyle birlikte eğitim hatasının artması ve aşırı öğrenmenin önlenememesiyle ortaya\n",
        "çıkar. ResNet bu sorunu, her bir katmanın çıktısının girişine eklenen bir \"rezidüel bağlantı\" ile çözer.\n",
        "-vanishing gradient problem-"
      ],
      "metadata": {
        "id": "h4pA5xDCJ9rK"
      },
      "id": "h4pA5xDCJ9rK"
    },
    {
      "cell_type": "code",
      "execution_count": 16,
      "id": "87713d70",
      "metadata": {
        "id": "87713d70"
      },
      "outputs": [],
      "source": [
        "resnet = tf.keras.applications.ResNet50(\n",
        "    include_top=False,\n",
        "    weights=None,\n",
        "    input_tensor=None,\n",
        "    input_shape=(32,32,3),\n",
        "    pooling=max,\n",
        "    classes=10,\n",
        "    classifier_activation = 'softmax'\n",
        "    )\n",
        "\n",
        "resnet.compile(optimizer='adam',\n",
        "             loss='sparse_categorical_crossentropy',\n",
        "             metrics=['accuracy'])"
      ]
    },
    {
      "cell_type": "markdown",
      "id": "73f5279a",
      "metadata": {
        "id": "73f5279a"
      },
      "source": [
        "**Densenet Model Fine Tune**"
      ]
    },
    {
      "cell_type": "code",
      "execution_count": 17,
      "id": "7645ee44",
      "metadata": {
        "id": "7645ee44"
      },
      "outputs": [],
      "source": [
        "densenet = tf.keras.applications.DenseNet121(\n",
        "    include_top=False,\n",
        "    weights=None,\n",
        "    input_tensor=None,\n",
        "    input_shape=(32,32,3),\n",
        "    pooling=max,\n",
        "    classes=10,\n",
        "    classifier_activation = 'softmax'\n",
        "    )\n",
        "\n",
        "densenet.compile(optimizer='adam',\n",
        "             loss='sparse_categorical_crossentropy',\n",
        "             metrics=['accuracy'])"
      ]
    },
    {
      "cell_type": "code",
      "execution_count": null,
      "id": "99052291",
      "metadata": {
        "id": "99052291"
      },
      "outputs": [],
      "source": []
    }
  ],
  "metadata": {
    "kernelspec": {
      "display_name": "Python 3",
      "name": "python3"
    },
    "language_info": {
      "codemirror_mode": {
        "name": "ipython",
        "version": 3
      },
      "file_extension": ".py",
      "mimetype": "text/x-python",
      "name": "python",
      "nbconvert_exporter": "python",
      "pygments_lexer": "ipython3",
      "version": "3.9.12"
    },
    "colab": {
      "provenance": [],
      "gpuType": "T4"
    },
    "accelerator": "GPU"
  },
  "nbformat": 4,
  "nbformat_minor": 5
}